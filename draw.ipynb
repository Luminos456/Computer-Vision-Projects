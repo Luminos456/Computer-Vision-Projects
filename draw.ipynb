{
 "cells": [
  {
   "cell_type": "code",
   "execution_count": 1,
   "id": "266388fc",
   "metadata": {},
   "outputs": [],
   "source": [
    "import cv2 as cv \n",
    "import numpy as np"
   ]
  },
  {
   "cell_type": "code",
   "execution_count": 2,
   "id": "78cffddf",
   "metadata": {},
   "outputs": [
    {
     "data": {
      "text/plain": [
       "-1"
      ]
     },
     "execution_count": 2,
     "metadata": {},
     "output_type": "execute_result"
    }
   ],
   "source": [
    "blank = np.zeros((500,500,3), dtype=\"uint8\")\n",
    "\n",
    "#img = cv.imread(\"Resources/Photos/cat.jpg\")\n",
    "#1. Paint the image a certain color\n",
    "blank[:]=0,255,0\n",
    "cv.imshow(\"Blank\",blank)\n",
    "#Or\n",
    "blank[200:300, 300:400] = 0,0,255\n",
    "cv.imshow(\"Blank\",blank)\n",
    "cv.waitKey(0)"
   ]
  },
  {
   "cell_type": "code",
   "execution_count": 8,
   "id": "9a045826",
   "metadata": {},
   "outputs": [
    {
     "data": {
      "text/plain": [
       "-1"
      ]
     },
     "execution_count": 8,
     "metadata": {},
     "output_type": "execute_result"
    }
   ],
   "source": [
    "#2. Draw a rectangle\n",
    "blank = np.zeros((500,500,3), dtype=\"uint8\")\n",
    "cv.rectangle(blank,(0,0),(250,250),(120,156,23),thickness=cv.FILLED)\n",
    "cv.imshow(\"Rectangle\",blank)\n",
    "cv.waitKey(0)"
   ]
  },
  {
   "cell_type": "code",
   "execution_count": 10,
   "id": "db5372b0",
   "metadata": {},
   "outputs": [
    {
     "data": {
      "text/plain": [
       "-1"
      ]
     },
     "execution_count": 10,
     "metadata": {},
     "output_type": "execute_result"
    }
   ],
   "source": [
    "#3. Draw a circle\n",
    "blank = np.zeros((500,500,3), dtype=\"uint8\")\n",
    "cv.circle(blank,(blank.shape[1]//2, blank.shape[0]//2),150,(120,156,233),thickness = 3)\n",
    "cv.imshow(\"Circle\",blank)\n",
    "cv.waitKey(0)"
   ]
  },
  {
   "cell_type": "code",
   "execution_count": 13,
   "id": "f1e8f82b",
   "metadata": {},
   "outputs": [
    {
     "data": {
      "text/plain": [
       "-1"
      ]
     },
     "execution_count": 13,
     "metadata": {},
     "output_type": "execute_result"
    }
   ],
   "source": [
    "#4. Draw a line\n",
    "blank = np.zeros((500,500,3), dtype=\"uint8\")\n",
    "cv.line(blank,(0,0),(blank.shape[1]//2, blank.shape[0]//2),(120,156,233),thickness = 3)\n",
    "cv.imshow(\"Circle\",blank)\n",
    "cv.waitKey(0)"
   ]
  },
  {
   "cell_type": "code",
   "execution_count": 16,
   "id": "ce637a14",
   "metadata": {},
   "outputs": [
    {
     "data": {
      "text/plain": [
       "-1"
      ]
     },
     "execution_count": 16,
     "metadata": {},
     "output_type": "execute_result"
    }
   ],
   "source": [
    "#5. Write a Text\n",
    "cv.putText(blank,\"Eray\",(225,225),cv.FONT_HERSHEY_TRIPLEX, 1.0,(0,255,0),2)\n",
    "cv.imshow(\"Circle\",blank)\n",
    "cv.waitKey(0)"
   ]
  },
  {
   "cell_type": "code",
   "execution_count": null,
   "id": "eb901387",
   "metadata": {},
   "outputs": [],
   "source": []
  }
 ],
 "metadata": {
  "kernelspec": {
   "display_name": "Python 3 (ipykernel)",
   "language": "python",
   "name": "python3"
  },
  "language_info": {
   "codemirror_mode": {
    "name": "ipython",
    "version": 3
   },
   "file_extension": ".py",
   "mimetype": "text/x-python",
   "name": "python",
   "nbconvert_exporter": "python",
   "pygments_lexer": "ipython3",
   "version": "3.8.13"
  }
 },
 "nbformat": 4,
 "nbformat_minor": 5
}
