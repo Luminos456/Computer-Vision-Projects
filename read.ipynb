{
 "cells": [
  {
   "cell_type": "code",
   "execution_count": 1,
   "id": "e4092d72",
   "metadata": {},
   "outputs": [],
   "source": [
    "import cv2 as cv"
   ]
  },
  {
   "cell_type": "markdown",
   "id": "07512c17",
   "metadata": {},
   "source": [
    "# Reading Photos"
   ]
  },
  {
   "cell_type": "code",
   "execution_count": 4,
   "id": "23e56e20",
   "metadata": {},
   "outputs": [],
   "source": [
    "img=cv.imread(\"Resources/Photos/cat_large.jpg\")"
   ]
  },
  {
   "cell_type": "code",
   "execution_count": 5,
   "id": "4c765711",
   "metadata": {},
   "outputs": [
    {
     "data": {
      "text/plain": [
       "-1"
      ]
     },
     "execution_count": 5,
     "metadata": {},
     "output_type": "execute_result"
    }
   ],
   "source": [
    "cv.imshow(\"Cat\",img)\n",
    "cv.waitKey(0)"
   ]
  },
  {
   "cell_type": "markdown",
   "id": "74483f4a",
   "metadata": {},
   "source": [
    "# Reading Videos"
   ]
  },
  {
   "cell_type": "code",
   "execution_count": 2,
   "id": "fd34f8d6",
   "metadata": {},
   "outputs": [],
   "source": [
    "capture = cv.VideoCapture(\"Resources/Videos/dog.mp4\") #If there is a camera that be connected to pc, we can user integer arguments."
   ]
  },
  {
   "cell_type": "code",
   "execution_count": 3,
   "id": "bc14fd39",
   "metadata": {},
   "outputs": [],
   "source": [
    "while True:\n",
    "    isTrue, frame = capture.read() #Frame by frame\n",
    "    cv.imshow(\"Video\",frame)\n",
    "    if cv.waitKey(20) & 0xFF==ord(\"d\"):\n",
    "        break\n",
    "capture.release()\n",
    "cv.destroyAllWindows()"
   ]
  },
  {
   "cell_type": "code",
   "execution_count": null,
   "id": "ff592a93",
   "metadata": {},
   "outputs": [],
   "source": []
  }
 ],
 "metadata": {
  "kernelspec": {
   "display_name": "Python 3 (ipykernel)",
   "language": "python",
   "name": "python3"
  },
  "language_info": {
   "codemirror_mode": {
    "name": "ipython",
    "version": 3
   },
   "file_extension": ".py",
   "mimetype": "text/x-python",
   "name": "python",
   "nbconvert_exporter": "python",
   "pygments_lexer": "ipython3",
   "version": "3.8.13"
  }
 },
 "nbformat": 4,
 "nbformat_minor": 5
}
