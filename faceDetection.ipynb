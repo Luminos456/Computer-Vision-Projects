{
 "cells": [
  {
   "cell_type": "code",
   "execution_count": 21,
   "id": "ed17b43e",
   "metadata": {},
   "outputs": [],
   "source": [
    "import cv2 as cv \n"
   ]
  },
  {
   "cell_type": "code",
   "execution_count": 22,
   "id": "ae92142f",
   "metadata": {},
   "outputs": [],
   "source": [
    "img = cv.imread(\"Resources/Photos/group 2.jpg\")"
   ]
  },
  {
   "cell_type": "code",
   "execution_count": 23,
   "id": "4d78fd85",
   "metadata": {},
   "outputs": [],
   "source": [
    "gray = cv.cvtColor(img, cv.COLOR_BGR2GRAY)"
   ]
  },
  {
   "cell_type": "code",
   "execution_count": 24,
   "id": "a331e2bd",
   "metadata": {},
   "outputs": [],
   "source": [
    "haar_cascade = cv.CascadeClassifier(\"haar_face.xml\")"
   ]
  },
  {
   "cell_type": "code",
   "execution_count": 29,
   "id": "135ab83f",
   "metadata": {},
   "outputs": [
    {
     "name": "stdout",
     "output_type": "stream",
     "text": [
      "Number of faces found : 6\n"
     ]
    }
   ],
   "source": [
    "faces_rect = haar_cascade.detectMultiScale(gray, scaleFactor = 1.1, minNeighbors =6)\n",
    "print(f\"Number of faces found : {len(faces_rect)}\")"
   ]
  },
  {
   "cell_type": "code",
   "execution_count": 30,
   "id": "75e4ba68",
   "metadata": {},
   "outputs": [
    {
     "data": {
      "text/plain": [
       "-1"
      ]
     },
     "execution_count": 30,
     "metadata": {},
     "output_type": "execute_result"
    }
   ],
   "source": [
    "for (x,y,w,h) in faces_rect:\n",
    "    cv.rectangle(img, (x,y),(x+w,y+h),(0,255,0), thickness = 2)\n",
    "cv.imshow(\"Detected Faces\", img)\n",
    "cv.waitKey(0)"
   ]
  },
  {
   "cell_type": "code",
   "execution_count": null,
   "id": "4764236a",
   "metadata": {},
   "outputs": [],
   "source": []
  }
 ],
 "metadata": {
  "kernelspec": {
   "display_name": "Python 3 (ipykernel)",
   "language": "python",
   "name": "python3"
  },
  "language_info": {
   "codemirror_mode": {
    "name": "ipython",
    "version": 3
   },
   "file_extension": ".py",
   "mimetype": "text/x-python",
   "name": "python",
   "nbconvert_exporter": "python",
   "pygments_lexer": "ipython3",
   "version": "3.8.13"
  }
 },
 "nbformat": 4,
 "nbformat_minor": 5
}
