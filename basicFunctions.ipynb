{
 "cells": [
  {
   "cell_type": "code",
   "execution_count": 2,
   "id": "81e0553b",
   "metadata": {},
   "outputs": [],
   "source": [
    "import cv2 as cv"
   ]
  },
  {
   "cell_type": "code",
   "execution_count": 14,
   "id": "ac9cee68",
   "metadata": {},
   "outputs": [
    {
     "data": {
      "text/plain": [
       "-1"
      ]
     },
     "execution_count": 14,
     "metadata": {},
     "output_type": "execute_result"
    }
   ],
   "source": [
    "#Converting to grayscale\n",
    "img = cv.imread(\"Resources/Photos/cat.jpg\")\n",
    "cv.imshow(\"Cat\",img)\n",
    "gray = cv.cvtColor(img,6)#cv.COLOR_BAYER_BG2GRAY\n",
    "cv.imshow(\"Gray\",gray)\n",
    "cv.waitKey(0)"
   ]
  },
  {
   "cell_type": "code",
   "execution_count": 29,
   "id": "c92377a5",
   "metadata": {},
   "outputs": [
    {
     "data": {
      "text/plain": [
       "-1"
      ]
     },
     "execution_count": 29,
     "metadata": {},
     "output_type": "execute_result"
    }
   ],
   "source": [
    "#Blur\n",
    "blur = cv.GaussianBlur(img,(3,3), cv.BORDER_DEFAULT)\n",
    "cv.imshow(\"Cat\",img)\n",
    "cv.imshow(\"Blur\",blur)\n",
    "cv.waitKey(0)"
   ]
  },
  {
   "cell_type": "code",
   "execution_count": 30,
   "id": "ad5a1c69",
   "metadata": {},
   "outputs": [
    {
     "data": {
      "text/plain": [
       "-1"
      ]
     },
     "execution_count": 30,
     "metadata": {},
     "output_type": "execute_result"
    }
   ],
   "source": [
    "#Edge Cascade \n",
    "canny = cv.Canny(blur, 125,175)#Blurred images are cleaner than original sources.\n",
    "cv.imshow(\"Cat\",img)\n",
    "cv.imshow(\"Canny\",canny)\n",
    "cv.waitKey(0)"
   ]
  },
  {
   "cell_type": "code",
   "execution_count": 33,
   "id": "b0b67aeb",
   "metadata": {},
   "outputs": [
    {
     "data": {
      "text/plain": [
       "-1"
      ]
     },
     "execution_count": 33,
     "metadata": {},
     "output_type": "execute_result"
    }
   ],
   "source": [
    "#Dilating the image (It takes edged images)\n",
    "dilated = cv.dilate(canny, (3,3), iterations=1)\n",
    "cv.imshow(\"Canny\",canny)\n",
    "cv.imshow(\"Dilated\",dilated)\n",
    "cv.waitKey(0)"
   ]
  },
  {
   "cell_type": "code",
   "execution_count": 35,
   "id": "af689860",
   "metadata": {},
   "outputs": [
    {
     "data": {
      "text/plain": [
       "-1"
      ]
     },
     "execution_count": 35,
     "metadata": {},
     "output_type": "execute_result"
    }
   ],
   "source": [
    "#Eroding (It takes dilated images)\n",
    "eroded = cv.erode(dilated,(3,3),iterations=1)\n",
    "cv.imshow(\"Cat\",img)\n",
    "cv.imshow(\"Blur\",blur)\n",
    "cv.imshow(\"Canny\",canny)\n",
    "cv.imshow(\"Eroded\",eroded)\n",
    "cv.imshow(\"Dilated\",dilated)\n",
    "cv.waitKey(0)"
   ]
  },
  {
   "cell_type": "code",
   "execution_count": 39,
   "id": "41ba1e5e",
   "metadata": {},
   "outputs": [
    {
     "data": {
      "text/plain": [
       "-1"
      ]
     },
     "execution_count": 39,
     "metadata": {},
     "output_type": "execute_result"
    }
   ],
   "source": [
    "#Resize\n",
    "resized = cv.resize(img, (1920,1080), interpolation = cv.INTER_CUBIC)\n",
    "cv.imshow(\"Cat\",img)\n",
    "cv.imshow(\"Large Cat\",resized)\n",
    "cv.waitKey(0)"
   ]
  },
  {
   "cell_type": "code",
   "execution_count": null,
   "id": "71b3d29b",
   "metadata": {},
   "outputs": [],
   "source": [
    "#Cropping\n",
    "cropped = img[50:200,200:400]\n"
   ]
  }
 ],
 "metadata": {
  "kernelspec": {
   "display_name": "Python 3 (ipykernel)",
   "language": "python",
   "name": "python3"
  },
  "language_info": {
   "codemirror_mode": {
    "name": "ipython",
    "version": 3
   },
   "file_extension": ".py",
   "mimetype": "text/x-python",
   "name": "python",
   "nbconvert_exporter": "python",
   "pygments_lexer": "ipython3",
   "version": "3.8.13"
  }
 },
 "nbformat": 4,
 "nbformat_minor": 5
}
