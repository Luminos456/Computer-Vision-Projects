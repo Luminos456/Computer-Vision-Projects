{
 "cells": [
  {
   "cell_type": "code",
   "execution_count": 6,
   "id": "860dc2d9",
   "metadata": {},
   "outputs": [],
   "source": [
    "import cv2 as cv \n",
    "import numpy as np"
   ]
  },
  {
   "cell_type": "code",
   "execution_count": 3,
   "id": "6dbc5879",
   "metadata": {},
   "outputs": [
    {
     "data": {
      "text/plain": [
       "-1"
      ]
     },
     "execution_count": 3,
     "metadata": {},
     "output_type": "execute_result"
    }
   ],
   "source": [
    "#Color Spaces\n",
    "img = cv.imread(\"Resources/Photos/cats.jpg\")\n",
    "\n",
    "#BGR to Grayscale\n",
    "gray = cv.cvtColor(img, cv.COLOR_BGR2GRAY)\n",
    "# BGR to HSV\n",
    "hsv = cv.cvtColor(img, cv.COLOR_BGR2HSV)\n",
    "#BGR to LAB\n",
    "lab = cv.cvtColor(img, cv.COLOR_BGR2LAB)\n",
    "#BGR to RGB\n",
    "rgb = cv.cvtColor(img, cv.COLOR_BGR2RGB)\n",
    "\n",
    "cv.imshow(\"Gray\",gray)\n",
    "cv.imshow(\"HSV\",hsv)\n",
    "cv.imshow(\"LAB\",lab)\n",
    "cv.imshow(\"RGB\",rgb)\n",
    "\n",
    "cv.waitKey(0)"
   ]
  },
  {
   "cell_type": "code",
   "execution_count": 7,
   "id": "40038b43",
   "metadata": {},
   "outputs": [
    {
     "data": {
      "text/plain": [
       "-1"
      ]
     },
     "execution_count": 7,
     "metadata": {},
     "output_type": "execute_result"
    }
   ],
   "source": [
    "#Color Channels\n",
    "b,g,r = cv.split(img)\n",
    "\n",
    "cv.imshow(\"Blue\",b)\n",
    "cv.imshow(\"Green\",g)\n",
    "cv.imshow(\"Red\",r)\n",
    "\n",
    "blank = np.zeros(img.shape[:2], dtype = \"uint8\")\n",
    "blue = cv.merge([b, blank, blank])\n",
    "green = cv.merge([blank, g, blank])\n",
    "red = cv.merge([blank, blank, r])\n",
    "\n",
    "cv.imshow(\"Blue\",blue)\n",
    "cv.imshow(\"Green\",green)\n",
    "cv.imshow(\"Red\",red)\n",
    "\n",
    "\n",
    "cv.waitKey(0)"
   ]
  },
  {
   "cell_type": "code",
   "execution_count": 5,
   "id": "843917ea",
   "metadata": {},
   "outputs": [
    {
     "data": {
      "text/plain": [
       "-1"
      ]
     },
     "execution_count": 5,
     "metadata": {},
     "output_type": "execute_result"
    }
   ],
   "source": [
    "#Merging Color Channels\n",
    "merged = cv.merge([b,g,r])\n",
    "cv.imshow(\"Merged\",merged)\n",
    "cv.waitKey(0)"
   ]
  },
  {
   "cell_type": "code",
   "execution_count": null,
   "id": "6cd2bea9",
   "metadata": {},
   "outputs": [],
   "source": []
  }
 ],
 "metadata": {
  "kernelspec": {
   "display_name": "Python 3 (ipykernel)",
   "language": "python",
   "name": "python3"
  },
  "language_info": {
   "codemirror_mode": {
    "name": "ipython",
    "version": 3
   },
   "file_extension": ".py",
   "mimetype": "text/x-python",
   "name": "python",
   "nbconvert_exporter": "python",
   "pygments_lexer": "ipython3",
   "version": "3.8.13"
  }
 },
 "nbformat": 4,
 "nbformat_minor": 5
}
