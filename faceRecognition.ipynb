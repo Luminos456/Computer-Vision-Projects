{
 "cells": [
  {
   "cell_type": "code",
   "execution_count": 2,
   "id": "3b8ad518",
   "metadata": {},
   "outputs": [],
   "source": [
    "import cv2 as cv\n",
    "import numpy as np"
   ]
  },
  {
   "cell_type": "code",
   "execution_count": 10,
   "id": "013a31af",
   "metadata": {},
   "outputs": [],
   "source": [
    "people = ['Ben Afflek', 'Elton John', 'Jerry Seinfield', 'Madonna', 'Mindy Kaling']\n",
    "haar_cascade = cv.CascadeClassifier(\"haar_face.xml\")"
   ]
  },
  {
   "cell_type": "code",
   "execution_count": 11,
   "id": "d91b457c",
   "metadata": {},
   "outputs": [],
   "source": [
    "features = np.load(\"features.npy\", allow_pickle=True)\n",
    "labels = np.load(\"labels.npy\",allow_pickle=True)"
   ]
  },
  {
   "cell_type": "code",
   "execution_count": 12,
   "id": "3459f576",
   "metadata": {},
   "outputs": [],
   "source": [
    "face_recognizer = cv.face.LBPHFaceRecognizer_create()\n",
    "face_recognizer.read(\"face_trained.yml\")"
   ]
  },
  {
   "cell_type": "code",
   "execution_count": 18,
   "id": "8693b933",
   "metadata": {},
   "outputs": [
    {
     "name": "stdout",
     "output_type": "stream",
     "text": [
      "Label = Madonna with a confidence of 78.75449489280508\n"
     ]
    },
    {
     "data": {
      "text/plain": [
       "-1"
      ]
     },
     "execution_count": 18,
     "metadata": {},
     "output_type": "execute_result"
    }
   ],
   "source": [
    "img = cv.imread(\"Resources/Faces/val/madonna//3.jpg\")\n",
    "gray = cv.cvtColor(img, cv.COLOR_BGR2GRAY)\n",
    "\n",
    "#Detect the face in the image\n",
    "faces_rect = haar_cascade.detectMultiScale(gray, 1.1, 4)\n",
    "for (x,y,w,h) in faces_rect:\n",
    "    faces_region_of_interest = gray[y:y+h, x:x+w]\n",
    "    \n",
    "    label, confidence = face_recognizer.predict(faces_region_of_interest)\n",
    "    print(f\"Label = {people[label]} with a confidence of {confidence}\")\n",
    "    \n",
    "    cv.putText(img, str(people[label]), (20,20), cv.FONT_HERSHEY_COMPLEX, 1.0,(0,255,0),thickness = 2)\n",
    "    cv.rectangle(img, (x,y), (x+w,y+h), (0,0,255), thickness= 2)\n",
    "cv.imshow(\"Detected\", img)\n",
    "cv.waitKey(0)"
   ]
  },
  {
   "cell_type": "code",
   "execution_count": null,
   "id": "9e6505bd",
   "metadata": {},
   "outputs": [],
   "source": []
  }
 ],
 "metadata": {
  "kernelspec": {
   "display_name": "Python 3 (ipykernel)",
   "language": "python",
   "name": "python3"
  },
  "language_info": {
   "codemirror_mode": {
    "name": "ipython",
    "version": 3
   },
   "file_extension": ".py",
   "mimetype": "text/x-python",
   "name": "python",
   "nbconvert_exporter": "python",
   "pygments_lexer": "ipython3",
   "version": "3.8.13"
  }
 },
 "nbformat": 4,
 "nbformat_minor": 5
}
